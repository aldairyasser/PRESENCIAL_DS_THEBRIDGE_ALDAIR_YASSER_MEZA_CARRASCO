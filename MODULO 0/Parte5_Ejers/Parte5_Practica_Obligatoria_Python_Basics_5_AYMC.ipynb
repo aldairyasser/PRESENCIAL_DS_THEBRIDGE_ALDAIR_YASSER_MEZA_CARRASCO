{
 "cells": [
  {
   "cell_type": "markdown",
   "metadata": {
    "id": "A9eDZvZaNPxs"
   },
   "source": []
  },
  {
   "cell_type": "markdown",
   "metadata": {
    "id": "59zPhBxXNPxs"
   },
   "source": [
    "## PRACTICA OBLIGATORIA: PYTHON"
   ]
  },
  {
   "cell_type": "markdown",
   "metadata": {
    "id": "mv2kb1GMNPxs"
   },
   "source": [
    "* La práctica obligatoria de esta unidad consiste en dos ejercicios de programación libre a completar.   \n",
    "* Recuerda que debes subirla a tu repositorio personal antes de la sesión en vivo para que puntúe adecuadamente.  \n",
    "* Recuerda también que no es necesario que esté perfecta, sólo es necesario que se vea el esfuerzo.\n",
    "* Esta práctica se resolverá en la sesión en vivo correspondiente y la solución se publicará en el repo del curso."
   ]
  },
  {
   "cell_type": "markdown",
   "metadata": {
    "id": "Kl9JzST2NPxt"
   },
   "source": [
    "## PARTE I\n",
    "\n",
    "En este ejercicio debes simular un chatbot al que le haremos pedidos de pizzas.\n",
    "\n",
    "1. El chatbot tiene que saludar con un: \"Buenas tardes, bienvenido al servicio de pedido online, el precio de nuestra pizzas es de 8,95 para la familiar o de 9,90 para la mediana ¿Cuántas pizzas  familiares desea?\"\n",
    "2. El ususario tiene que introducir un número de pizzas en una variable llamada 'pizz_familiar'\n",
    "3. El chatbot debe responder: \"Estupendo, ¿cuántas pizzas medianas desea?\" y guardar el número de pizzas medianas en otra variable 'pizz_mediana'\n",
    "4. Además debe responder del chatbot: \"Estupendo, se están preparando 'pizz' pizzas familiares y 'pizz_mediana' pizzas medianas. Digame su dirección\"\n",
    "5. El ususario tiene que introducir una direccion en formato String en otra variable llamada 'direcc'\n",
    "6. El programa debe calcular el monto total\n",
    "7. Respuesta final del chatbot: \"Le mandaremos las '(número total de pizzas)' pizzas a la dirección 'direcc'. Serán <precio total a pagar en euros>. Muchas gracias por su pedido.\"\n",
    "         \n"
   ]
  },
  {
   "cell_type": "code",
   "execution_count": 8,
   "metadata": {
    "colab": {
     "base_uri": "https://localhost:8080/"
    },
    "executionInfo": {
     "elapsed": 58834,
     "status": "ok",
     "timestamp": 1745324944986,
     "user": {
      "displayName": "Aldair MC",
      "userId": "02356791645566482161"
     },
     "user_tz": -120
    },
    "id": "qkKibyt-NPxt",
    "outputId": "58515aef-3bcd-4530-da6e-dbadda9875e2"
   },
   "outputs": [
    {
     "name": "stdout",
     "output_type": "stream",
     "text": [
      "Buenas tardes, bienvenido al servicio de pedido online, el precio de nuestra pizzas es de 8,95 para la familiar o \n",
      "de 9,90 para la mediana ¿Cuántas pizzas familiares desea?\n",
      "1\n",
      "Estupendo, ¿cuántas pizzas medianas desea?\n",
      "2\n",
      "Estupendo, se están preparando 1 pizzas familiares y 2 pizzas medianas. Digame su dirección\n",
      "calle del silencio\n",
      "Le mandaremos las 3 pizzas a la dirección calle del silencio . Serán 28.75 Euros. Muchas gracias por su pedido.\n"
     ]
    }
   ],
   "source": [
    "print(\"Buenas tardes, bienvenido al servicio de pedido online, el precio de nuestra pizzas es de 8,95 para la familiar o \\nde 9,90 para la mediana ¿Cuántas pizzas familiares desea?\")\n",
    "pizz_familiar = int(input())\n",
    "\n",
    "print(\"Estupendo, ¿cuántas pizzas medianas desea?\")\n",
    "pizz_mediana = int(input())\n",
    "\n",
    "print(\"Estupendo, se están preparando\", pizz_familiar, \"pizzas familiares y\", pizz_mediana, \"pizzas medianas. Digame su dirección\")\n",
    "direcc = input()\n",
    "\n",
    "precio_familiar = 8.95\n",
    "precio_mediana = 9.90\n",
    "total = (pizz_familiar * precio_familiar) + (pizz_mediana * precio_mediana)\n",
    "print(\"Le mandaremos las\", pizz_familiar + pizz_mediana, \"pizzas a la dirección\", direcc, \". Serán\", total, \"Euros. Muchas gracias por su pedido.\")\n"
   ]
  },
  {
   "cell_type": "markdown",
   "metadata": {
    "id": "f0oqoGDGNPxt"
   },
   "source": [
    "## Parte II\n",
    "\n",
    "Crea un programa que realice las siguientes acciones:\n",
    "\n",
    "1. Solicite al usuario que introduzca 3 números enteros separados por comas (por ejemplo: 1,2,3).\n",
    "2. Convierta esa entrada en una lista de números enteros.\n",
    "3. Utilizando funciones built-in, determine el número máximo, el número mínimo y la suma total de los números introducidos.\n",
    "4. Determine la verdad o falsedad de la siguiente afirmación: \"El número máximo menos el número mínimo es igual a la suma total dividida por 5\".\n",
    "5. Muestre los resultados utilizando print."
   ]
  },
  {
   "cell_type": "code",
   "execution_count": 34,
   "metadata": {
    "colab": {
     "base_uri": "https://localhost:8080/"
    },
    "executionInfo": {
     "elapsed": 2060,
     "status": "ok",
     "timestamp": 1745326335884,
     "user": {
      "displayName": "Aldair MC",
      "userId": "02356791645566482161"
     },
     "user_tz": -120
    },
    "id": "rAlpWiQ9NPxt",
    "outputId": "5c4c2e9f-fbd0-473b-d0d8-bf58110482a7"
   },
   "outputs": [
    {
     "name": "stdout",
     "output_type": "stream",
     "text": [
      "Introduzca 3 números enteros separados por comas (por ejemplo: 1,2,3): 1,2,3\n",
      "['1', '2', '3']\n",
      "[1, 2, 3]\n",
      "[1.0, 2.0, 3.0]\n",
      "El mayor es  3.0 , el menor es  1.0 y la sum es de  6.0\n",
      "Para la afirmación de si el número máximo menos el número mínimo es igual a la suma total dividida por 5 es False\n"
     ]
    }
   ],
   "source": [
    "nums = input(\"Introduzca 3 números enteros separados por comas (por ejemplo: 1,2,3): \")\n",
    "nums = nums.split(\",\")\n",
    "print(nums)\n",
    "\n",
    "nums2 = []\n",
    "for num in nums:\n",
    "  nums2 += [ float(num) ]\n",
    "print(nums2)\n",
    "\n",
    "#Otra version con mapeo\n",
    "#nums = list(map(int, nums))\n",
    "#print(nums)\n",
    "\n",
    "print(\"El mayor es \", max(nums2) ,\", el menor es \", min(nums2) ,\"y la sum es de \", sum(nums2))\n",
    "print(\"Para la afirmación de si el número máximo menos el número mínimo es igual a la suma total dividida por 5\", end = \" \")\n",
    "print(\"es\", max(nums2) - min(nums2) == sum(nums2) / 5)"
   ]
  }
 ],
 "metadata": {
  "colab": {
   "provenance": [
    {
     "file_id": "1dOQq9Mi3A5GTZO4BghNKPhh7f6XNjs_P",
     "timestamp": 1745324562258
    }
   ]
  },
  "kernelspec": {
   "display_name": "Curso_Online_DATA",
   "language": "python",
   "name": "python3"
  },
  "language_info": {
   "codemirror_mode": {
    "name": "ipython",
    "version": 3
   },
   "file_extension": ".py",
   "mimetype": "text/x-python",
   "name": "python",
   "nbconvert_exporter": "python",
   "pygments_lexer": "ipython3",
   "version": "3.11.5"
  },
  "orig_nbformat": 4
 },
 "nbformat": 4,
 "nbformat_minor": 0
}
