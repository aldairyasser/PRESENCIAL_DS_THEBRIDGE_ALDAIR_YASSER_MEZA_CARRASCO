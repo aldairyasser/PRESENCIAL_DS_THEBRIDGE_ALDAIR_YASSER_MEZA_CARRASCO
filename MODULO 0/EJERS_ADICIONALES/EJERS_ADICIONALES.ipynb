{
 "cells": [
  {
   "cell_type": "markdown",
   "id": "5b0775ba",
   "metadata": {},
   "source": [
    "65º Diseña un programa que, dado un número entero, determine si éste es el doble de un número impar. (Ejemplo: 14 es el doble de 7, que es impar.)"
   ]
  },
  {
   "cell_type": "code",
   "execution_count": 3,
   "id": "4785767d",
   "metadata": {},
   "outputs": [
    {
     "name": "stdout",
     "output_type": "stream",
     "text": [
      "14 es el doble de 7.0 que es impar\n"
     ]
    }
   ],
   "source": [
    "num = int(input(\"Introduce un numero entero: \"))\n",
    "if num % 2 == 0 and (num / 2) % 2 != 0:\n",
    "    print(f\"{num} es el doble de {(num/2)} que es impar\")\n",
    "else:\n",
    "    print(f\"{num} no es el doble de un numero impar\")"
   ]
  },
  {
   "cell_type": "markdown",
   "id": "8cae4cfc",
   "metadata": {},
   "source": [
    "66º Diseña un programa que, dados dos números enteros, determine si uno de ellos es múltiplo del otro. Que muestre el mensaje:\n",
    "\n",
    "\"El segundo es el cuadrado exacto del primero.\", \"El segundo es menor que el cuadrado del primero.\" o \n",
    "\n",
    "\"El segundo es mayor que el cuadrado del primero\", \n",
    "\n",
    "dependiendo de la verificación de la condición correspondiente al significado de cada mensaje"
   ]
  },
  {
   "cell_type": "code",
   "execution_count": null,
   "id": "67508a22",
   "metadata": {},
   "outputs": [],
   "source": [
    "num1 = input(int(\"Introduce numero 1: \"))\n",
    "num2 = input(int(\"Introduce numero 2: \"))\n",
    "if num2 == num1 ** 2:\n",
    "    print(f\"El segundo es el cuadrado exacto del primero.\")\n",
    "elif num2 < num1 ** 2:\n",
    "    print(f\"El segundo es menor que el cuadrado del primero.\")\n",
    "else:\n",
    "    print(f\"El segundo es mayor que el cuadrado del primero.\")"
   ]
  },
  {
   "cell_type": "markdown",
   "id": "6255a864",
   "metadata": {},
   "source": [
    "68º Realiza un programa que calcule el desglose en billetes y monedas de una cantidad exacta de euros. Hay billetes de\n",
    "500, 200, 100, 50, 20, 10 y 5$ y monedas de 2 y 1$.\n",
    "\n",
    "Por ejemplo, si deseamos conocer el desglose de 434$, el programa mostrará por pantalla el siguiente resultado:\n",
    " \n",
    "2 billetes de 200 euros.\n",
    "\n",
    "1 billete de 20 euros.\n",
    "\n",
    "1 billete de 10 euros.\n",
    "\n",
    "2 monedas de 2 euros."
   ]
  },
  {
   "cell_type": "code",
   "execution_count": null,
   "id": "b41f20d1",
   "metadata": {},
   "outputs": [],
   "source": [
    "cantidad = input(int(\"Introduce una cantidad exacta de euros: \"))\n",
    "billetes_monedas = [500, 200, 100, 50, 20, 10, 5, 2, 1]\n",
    "desglose = {}\n",
    "for valor in billetes_monedas:\n",
    "    if cantidad >= valor:\n",
    "        num_billetes_monedas = cantidad // valor\n",
    "        desglose[valor] = num_billetes_monedas\n",
    "        cantidad -= num_billetes_monedas * valor\n",
    "\n",
    "for valor, num in desglose.items():\n",
    "    if valor >= 5:\n",
    "        print(f\"{num} billetes de {valor} euros.\")\n",
    "    else:\n",
    "        print(f\"{num} monedas de {valor} euros.\")"
   ]
  },
  {
   "cell_type": "markdown",
   "id": "bcdd2642",
   "metadata": {},
   "source": [
    "82º Diseña un programa que calcule la menor de cinco palabras dadas; es decir, la primera palabra de las cinco en orden alfabético. \n",
    "\n",
    "No aceptaremos que las mayúsculas sean **alfabéticamente✮✮ menores que las minúsculas. O sea, ’pepita’ es menor que ’Pepito’"
   ]
  },
  {
   "cell_type": "code",
   "execution_count": null,
   "id": "3de6d38d",
   "metadata": {},
   "outputs": [],
   "source": [
    "palabras = []\n",
    "for i in range(5):\n",
    "    palabra = input(\"Introduce la \"+ i + \" palabra: \")\n",
    "    palabras.append(palabra)\n",
    "menor_palabra = min(palabras)\n",
    "print(f\"La menor palabra en orden alfabetico es: {menor_palabra}\")"
   ]
  },
  {
   "cell_type": "markdown",
   "id": "c46c12db",
   "metadata": {},
   "source": [
    "83º Diseña un programa que, dados cinco números enteros, determine cuál de los cuatro últimos números es más cercano al primero. \n",
    "\n",
    "(Por ejemplo, si el usuario introduce los números 2, 6, 4, 1 y 10, el programa responderá que el número más cercano al 2 es el 1.)"
   ]
  },
  {
   "cell_type": "code",
   "execution_count": null,
   "id": "65b3a670",
   "metadata": {},
   "outputs": [],
   "source": [
    "num1 = input(int(\"Introduce numero 1: \"))\n",
    "num2 = input(int(\"Introduce numero 2: \"))\n",
    "num3 = input(int(\"Introduce numero 3: \"))\n",
    "num4 = input(int(\"Introduce numero 4: \"))\n",
    "num5 = input(int(\"Introduce numero 5: \"))\n",
    "\n",
    "numeros = [num2, num3, num4, num5]\n",
    "diferencia = num2 - num1\n",
    "mas_cercano = num2\n",
    "for numero in numeros:\n",
    "    if abs(numero - num1) < abs(diferencia):\n",
    "        diferencia = numero - num1\n",
    "        mas_cercano = numero\n",
    "print(f\"El numero mas cercano a {num1} es {mas_cercano}\")"
   ]
  },
  {
   "cell_type": "markdown",
   "id": "9a5aec53",
   "metadata": {},
   "source": [
    "104º Implementa un programa que muestre todos los múltiplos de n entre n y m ·n, ambos inclusive, donde n y m son números introducidos por el usuario"
   ]
  },
  {
   "cell_type": "code",
   "execution_count": null,
   "id": "99e88ac0",
   "metadata": {},
   "outputs": [],
   "source": [
    "n = input(int(\"Introduce un numero n: \"))\n",
    "m = input(int(\"Introduce un numero m: \"))\n",
    "multiplos = []\n",
    "for i in range(n, (m * n) + 1, n):\n",
    "    multiplos.append(i)\n",
    "print(f\"Los multiplos de {n} entre {n} y {m*n} son: {multiplos}\")"
   ]
  },
  {
   "cell_type": "markdown",
   "id": "be2af2c7",
   "metadata": {},
   "source": [
    "190º Una palabra es **alfabética** si todas sus letras están ordenadas alfabéticamente. \n",
    "\n",
    "Por ejemplo, **amor**, **chino** e **himno** son palabras **alfabéticas**. \n",
    "\n",
    "Diseña un programa que lea una palabra y nos diga si es alfabética o no\n"
   ]
  },
  {
   "cell_type": "code",
   "execution_count": null,
   "id": "d6fa57dc",
   "metadata": {},
   "outputs": [],
   "source": [
    "palabra = input(\"Introduce una palabra: \")\n",
    "if list(palabra) == sorted(palabra):\n",
    "    print(f\"La palabra {palabra} es alfabetica\")\n",
    "else:\n",
    "    print(f\"La palabra {palabra} no es alfabetica\")"
   ]
  },
  {
   "cell_type": "markdown",
   "id": "08fa2bbf",
   "metadata": {},
   "source": [
    "194º Hay un tipo de pasatiempos que propone descifrar un texto del que se han suprimido las vocales. \n",
    "\n",
    "Por ejemplo, el texto <.n .j.mpl. d. p.s.t..mp.s>, se descifra sustituyendo cada punto con una vocal del texto. \n",
    "\n",
    "La solución es **un ejemplo de pasatiempos**. Diseña un programa que ayude al creador de pasatiempos. \n",
    "\n",
    "El programa recibirá una cadena y mostrará otra en la que cada vocal ha sido reemplazada por un punto."
   ]
  },
  {
   "cell_type": "code",
   "execution_count": null,
   "id": "af831198",
   "metadata": {},
   "outputs": [],
   "source": [
    "cadena = input(\"Introduce tu cadena de texto: \")\n",
    "vocales = [\"a\",\"e\",\"i\",\"o\",\"u\",\"A\",\"E\",\"I\",\"O\",\"U\"]\n",
    "\n",
    "for i in list(cadena):\n",
    "    if i == vocales.item():\n",
    "        cadena[i] = \".\"\n",
    "\n",
    "print(cadena)\n",
    "# COMPROBAR"
   ]
  },
  {
   "cell_type": "markdown",
   "id": "1dbba451",
   "metadata": {},
   "source": [
    "270º La última letra del DNI puede calcularse a partir del número. Para ello sólo tienes que dividir el número por 23 y\n",
    "quedarte con el resto, que es un número entre 0 y 22. La letra que corresponde a cada número la tienes en esta tabla:\n",
    "0 1 2 3 4 5 6 7 8 9 10 11 12 13 14 15 16 17 18 19 20 21 22\n",
    "T R W A G M Y F P D X B N J Z S Q V H L C K E\n",
    "Define una función que, dado un número de DNI, devuelva la letra que le corresponde"
   ]
  },
  {
   "cell_type": "code",
   "execution_count": null,
   "id": "13f65936",
   "metadata": {},
   "outputs": [],
   "source": [
    "dni_sin_letra = input(int(\"Introduce tu dni sin letra: \"))\n",
    "\n",
    "letra = {\n",
    "    0: \"T\", 1: \"R\", 2: \"W\", 3: \"A\", 4: \"G\", 5: \"M\", 6: \"Y\", 7: \"F\", 8: \"P\", 9: \"D\", 10: \"X\", 11: \"B\", 12: \"N\", 13: \"J\",\n",
    "    14: \"Z\", 15: \"S\", 16: \"Q\", 17: \"V\", 18: \"H\", 19: \"L\", 20: \"C\", 21: \"K\", 22: \"E\"\n",
    "}\n",
    "\n",
    "def letra_dni(dni_sin_letra):\n",
    "    total = 0\n",
    "    for i in dni_sin_letra:\n",
    "        total =+ i\n",
    "\n",
    "    num = total//23 \n",
    "    print(f\"La letra correspondiente a {dni_sin_letra} es {letra(num)}\")\n",
    "    return {letra(num)}\n",
    "\n",
    "letra_dni(dni_sin_letra)\n",
    "# COMPROBAR"
   ]
  },
  {
   "cell_type": "markdown",
   "id": "fea155f2",
   "metadata": {},
   "source": [
    "\n",
    "272º Diseña una función llamada es_repeticion que reciba una cadena y nos diga si la cadena está formada mediante la concatenación de una cadena consigo misma. \n",
    "\n",
    "Por ejemplo, es_repeticion(’abab’) devolverá \"True\", pues la cadena ’abab’ está formada con la cadena ’ab’ repetida; por contra es_repeticion(’ababab’) devolverá \"False\""
   ]
  },
  {
   "cell_type": "code",
   "execution_count": null,
   "id": "62db9a83",
   "metadata": {},
   "outputs": [],
   "source": [
    "def es_repeticion():\n",
    "    cadena = input(\"Introduce tu cadena de texto: \")\n",
    "    return "
   ]
  },
  {
   "cell_type": "markdown",
   "id": "ab8c4802",
   "metadata": {},
   "source": [
    "276º Define una función que devuelva el número de días que tiene un año determinado. \n",
    "\n",
    "Ten en cuenta que un año es bisiesto si es divisible por 4 y no divisible por 100, excepto si es también divisible por 400, en cuyo caso es bisiesto.\n",
    "\n",
    "(Ejemplos: El número de días de 2002 es 365: el número 2002 no es divisible por 4, así que no es bisiesto. El año 2004 es bisiesto y tiene 366 días: el número 2004 es divisible por 4, pero no \n",
    "\n",
    "por 100, así que es bisiesto. El año 1900 es divisible por 4, pero no es bisiesto porque es divisible por 100 y no por 400. El año 2000 sí es bisiesto: el número 2000 es divisible por 4 y, \n",
    "\n",
    "aunque es divisible por 100, también lo es por 400.)"
   ]
  },
  {
   "cell_type": "code",
   "execution_count": null,
   "id": "12dc05c5",
   "metadata": {},
   "outputs": [],
   "source": [
    "def año_bisiesto():\n",
    "    return"
   ]
  },
  {
   "cell_type": "markdown",
   "id": "08e10c87",
   "metadata": {},
   "source": [
    "289º Diseña una función que reciba una lista de cadenas y devuelva el prefijo común más largo. \n",
    "\n",
    "Por ejemplo, la cadena ’pol’ es el prefijo común más largo de esta lista:\n",
    "\n",
    "[’poliedro’, ’policía’, ’polífona’, ’polinizar’, ’polaridad’, ’política’]"
   ]
  },
  {
   "cell_type": "code",
   "execution_count": null,
   "id": "d90fc68e",
   "metadata": {},
   "outputs": [],
   "source": [
    "def prefijo_more_comun():\n",
    "    return"
   ]
  },
  {
   "cell_type": "markdown",
   "id": "0692fe71",
   "metadata": {},
   "source": [
    "296º Haz una función que reciba un número de DNI y una letra. \n",
    "\n",
    "La función devolverá True si la letra corresponde a ese número de DNI, y False en caso contrario. La función debe llamarse comprueba_letra_dni .\n",
    "\n",
    "Si lo deseas, puedes llamar a la función letra_dni , desarrollada en el ejercicio 270, desde esta nueva función "
   ]
  },
  {
   "cell_type": "code",
   "execution_count": null,
   "id": "e0b05745",
   "metadata": {},
   "outputs": [],
   "source": [
    "dni_sin_letra = int(input(\"Introduce tu dni sin letra: \"))\n",
    "\n",
    "letra = chr(input(\"Introduce la letra: \"))\n",
    "\n",
    "letra = {\n",
    "    0: \"T\", 1: \"R\", 2: \"W\", 3: \"A\", 4: \"G\", 5: \"M\", 6: \"Y\", 7: \"F\", 8: \"P\", 9: \"D\", 10: \"X\", 11: \"B\", 12: \"N\", 13: \"J\",\n",
    "    14: \"Z\", 15: \"S\", 16: \"Q\", 17: \"V\", 18: \"H\", 19: \"L\", 20: \"C\", 21: \"K\", 22: \"E\"\n",
    "}\n",
    "\n",
    "def comprueba_letra_dni(dni_sin_letra, letra):\n",
    "    letra_real = letra_dni(dni_sin_letra)\n",
    "    if letra == letra_real:\n",
    "        return True\n",
    "    else: \n",
    "        return False\n",
    "    \n",
    "comprueba_letra_dni(dni_sin_letra,letra)\n",
    "\n",
    "# COMPROBAR"
   ]
  },
  {
   "cell_type": "markdown",
   "id": "c2850566",
   "metadata": {},
   "source": [
    "308º Tenemos los tiempos de cada ciclista y etapa participantes en la última vuelta ciclista local. La lista ciclistas contiene una serie de nombres. \n",
    "\n",
    "La matriz tiempos tiene una fila por cada ciclista, en el mismo orden con que aparecen en ciclistas.\n",
    "\n",
    "Cada fila tiene el tiempo en segundos (un valor flotante) invertido en cada una de las 5 etapas de la carrera. ¿Complicado?\n",
    "\n",
    "Este ejemplo te ayudará: te mostramos a continuación un ejemplo de lista ciclistas y de matriz tiempos para 3 corredores\n",
    "\n",
    "ciclistas = [’Pere Porcar’, ’Joan Beltran’, ’Lledó Fabra’]\n",
    "\n",
    "tiempo = [[10092.0, 12473.1, 13732.3, 10232.1, 10332.3],\n",
    "\n",
    "[11726.2, 11161.2, 12272.1, 11292.0, 12534.0],\n",
    "\n",
    "[10193.4, 10292.1, 11712.9, 10133.4, 11632.0]]\n",
    "\n",
    "En el ejemplo, el ciclista Joan Beltran invirtió 11161.2 segundos en la segunda etapa.\n",
    "\n",
    "Se pide:\n",
    "\n",
    "1. Una función que reciba la lista y la matriz y devuelva el ganador de la vuelta (aquel cuya suma de tiempos en las 5 etapas es mínima).\n",
    "\n",
    "2. Una función que reciba la lista, la matriz y un número de etapa y devuelva el nombre del ganador de la etapa.\n",
    "\n",
    "3. Un procedimiento que reciba la lista, la matriz y muestre por pantalla el ganador de cada una de las etapas.\n"
   ]
  },
  {
   "cell_type": "code",
   "execution_count": null,
   "id": "3de0191b",
   "metadata": {},
   "outputs": [],
   "source": [
    "def fruncion1 (ciclistas, tiempos): # Ganador de la vuelta (las 5 etapas)\n",
    "    return\n",
    "\n",
    "def fruncion2 (ciclistas, tiempos, etapa): # En base a una etapa, devolvemos el nombre del ganador de esa etapa\n",
    "    return\n",
    "\n",
    "def fruncion3 (ciclistas, tiempos): # Ganador de cada etapa\n",
    "    return"
   ]
  },
  {
   "cell_type": "markdown",
   "id": "e602a8a6",
   "metadata": {},
   "source": [
    "468º (con un while al menos) Diseña un programa que obtenga los 100 primeros números primos y los almacene en un fichero de texto llamado primos.txt"
   ]
  },
  {
   "cell_type": "code",
   "execution_count": null,
   "id": "4e5b4e63",
   "metadata": {},
   "outputs": [],
   "source": [
    "def primos():\n",
    "    return"
   ]
  }
 ],
 "metadata": {
  "kernelspec": {
   "display_name": "Python 3",
   "language": "python",
   "name": "python3"
  },
  "language_info": {
   "codemirror_mode": {
    "name": "ipython",
    "version": 3
   },
   "file_extension": ".py",
   "mimetype": "text/x-python",
   "name": "python",
   "nbconvert_exporter": "python",
   "pygments_lexer": "ipython3",
   "version": "3.13.3"
  }
 },
 "nbformat": 4,
 "nbformat_minor": 5
}
