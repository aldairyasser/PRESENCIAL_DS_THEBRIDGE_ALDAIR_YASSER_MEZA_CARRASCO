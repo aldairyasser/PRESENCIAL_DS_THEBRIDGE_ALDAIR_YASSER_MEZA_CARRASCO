{
 "cells": [
  {
   "cell_type": "markdown",
   "metadata": {
    "id": "3Rs1pc_faccw"
   },
   "source": [
    "## EJERCICIOS PYTHON BASICO 4:\n",
    "## Funciones, métodos, listas"
   ]
  },
  {
   "cell_type": "markdown",
   "metadata": {
    "id": "FDSyqzehaccw"
   },
   "source": [
    "Completa los siguiente ejercicios, la solución completa a los mismos se publicarán en el repo del curso a lo largo del sprint. En algunos ejercicios se muestra la solución final, para que puedas comprobar que lo has hecho bien, pero lo importante es el código que generes. ¡Vaaamos, a ello...!"
   ]
  },
  {
   "cell_type": "markdown",
   "metadata": {
    "id": "XtqgD8fDaccx"
   },
   "source": [
    "\n",
    "## Ejercicio 1\n",
    "Para este ejercicio vamos a poner en práctica lo aprendido.\n",
    "\n",
    "1. Calcula el máximo de la lista: [4, 6, 8, -1]\n",
    "2. Suma todos los elementos de la lista anterior\n",
    "3. Redondea este float a 3 dígitos decimales: 63.451256965\n",
    "4. Valor absoluto de: -74"
   ]
  },
  {
   "cell_type": "code",
   "execution_count": null,
   "metadata": {
    "id": "wfBg-iPIaccx"
   },
   "outputs": [],
   "source": [
    "lista = [4, 6, 8, -1]\n",
    "print(max(lista))\n",
    "print(sum(lista))\n",
    "print(round(63.451256965, 3))\n",
    "print(abs(-74))"
   ]
  },
  {
   "cell_type": "markdown",
   "metadata": {
    "id": "UyAd93gOaccx"
   },
   "source": [
    "\n",
    "## Ejercicio 2\n",
    "Para el siguiente string se pide imprimir por pantalla los siguientes casos\n",
    "\n",
    "    \"En un lugar de la Mancha, de cuyo nombre no quiero acordarme.\"\n",
    "\n",
    "1. Pásalo todo a mayúsculas\n",
    "2. Pásalo todo a minúsculas\n",
    "3. Solo la primera letra de cada palabra en mayúscula, el resto en minúscula\n",
    "4. Crea una lista dividiéndolo por sus espacios\n",
    "5. Sustituye las comas `,` por puntos y comas `;`\n",
    "6. Elimina las `a` minúsculas"
   ]
  },
  {
   "cell_type": "code",
   "execution_count": null,
   "metadata": {
    "id": "i3uzeBVmbpo7"
   },
   "outputs": [],
   "source": [
    "string = \"En un lugar de la Mancha, de cuyo nombre no quiero acordarme.\"\n",
    "\n",
    "print(string.upper())\n",
    "print(string.lower())\n",
    "print(string.title())\n",
    "print(string.split())\n",
    "print(string.replace(\",\", \";\"))\n",
    "print(string.replace(\"a\", \"\"))"
   ]
  },
  {
   "cell_type": "code",
   "execution_count": null,
   "metadata": {
    "id": "g5FmLrUGaccy",
    "outputId": "5594fbc5-1bce-4b36-c382-91313f4633b9"
   },
   "outputs": [
    {
     "name": "stdout",
     "output_type": "stream",
     "text": [
      "EN UN LUGAR DE LA MANCHA, DE CUYO NOMBRE NO QUIERO ACORDARME.\n",
      "en un lugar de la mancha, de cuyo nombre no quiero acordarme.\n",
      "En Un Lugar De La Mancha, De Cuyo Nombre No Quiero Acordarme.\n",
      "['En', 'un', 'lugar', 'de', 'la', 'Mancha,', 'de', 'cuyo', 'nombre', 'no', 'quiero', 'acordarme.']\n",
      "En un lugar de la Mancha; de cuyo nombre no quiero acordarme.\n",
      "En un lugr de l Mnch, de cuyo nombre no quiero cordrme.\n"
     ]
    }
   ],
   "source": []
  },
  {
   "cell_type": "markdown",
   "metadata": {
    "id": "-IplJCNcaccy"
   },
   "source": [
    "\n",
    "## Ejercicio 3\n",
    "1. Crea una lista con 3 elementos numéricos\n",
    "2. Añade un cuarto elemento\n",
    "3. Calcula la suma de todos\n",
    "4. Elimina el segundo elemento de la lista\n",
    "5. Añade otro elemento en la posicion 3 de la lista\n",
    "6. Crea otra lista con 4 elementos y concaténala a la que ya tenías.\n",
    "7. Ordena la lista de menor a mayor.\n",
    "8. BONUS: Ordena la lista de mayor a menor.  \n",
    "(*PISTA: Para hacer 8, tendrás que buscar en la información del método...*)  \n",
    "  \n",
    "  \n",
    "NOTA: Pinta por pantalla el resultado de cada paso."
   ]
  },
  {
   "cell_type": "code",
   "execution_count": 1,
   "metadata": {
    "colab": {
     "base_uri": "https://localhost:8080/"
    },
    "executionInfo": {
     "elapsed": 7,
     "status": "ok",
     "timestamp": 1745324493784,
     "user": {
      "displayName": "Aldair MC",
      "userId": "02356791645566482161"
     },
     "user_tz": -120
    },
    "id": "Faj2NhN1b9Z7",
    "outputId": "882951d5-2671-4f0b-9a87-a9e900c16525"
   },
   "outputs": [
    {
     "name": "stdout",
     "output_type": "stream",
     "text": [
      "[1, 2, 3, 4]\n",
      "10\n",
      "[1, 3, 4]\n",
      "[1, 3, 5, 4]\n",
      "[1, 3, 5, 4, 5, 6, 7, 8]\n",
      "[1, 3, 4, 5, 5, 6, 7, 8]\n",
      "[8, 7, 6, 5, 5, 4, 3, 1]\n"
     ]
    }
   ],
   "source": [
    "lista = [1,2,3]\n",
    "lista.append(4)\n",
    "print(lista)\n",
    "print(sum(lista))\n",
    "lista.pop(1)\n",
    "print(lista)\n",
    "lista.insert(2, 5)\n",
    "print(lista)\n",
    "\n",
    "lista2 = [5,6,7,8]\n",
    "lista3 = lista + lista2\n",
    "print(lista3)\n",
    "lista3.sort() #Ordenar la lista de menor a mayor\n",
    "print(lista3)\n",
    "lista3.sort(reverse=True) #Ordenamos la lista de mayor a menor\n",
    "print(lista3)"
   ]
  },
  {
   "cell_type": "code",
   "execution_count": null,
   "metadata": {
    "id": "TervBtJeaccy",
    "outputId": "d6c34693-00bc-4826-d594-d225165ee8b6"
   },
   "outputs": [
    {
     "name": "stdout",
     "output_type": "stream",
     "text": [
      "10\n",
      "[2, 3, 4]\n",
      "[2, 3, 5, 4]\n",
      "[2, 3, 5, 4, 6, 7, 8, 9]\n"
     ]
    }
   ],
   "source": []
  }
 ],
 "metadata": {
  "colab": {
   "provenance": [
    {
     "file_id": "1cRNjAYG-cZ8wju9DhODRekqvEM0Ne_Cl",
     "timestamp": 1745323939528
    }
   ]
  },
  "kernelspec": {
   "display_name": "Curso_Online_DATA",
   "language": "python",
   "name": "python3"
  },
  "language_info": {
   "codemirror_mode": {
    "name": "ipython",
    "version": 3
   },
   "file_extension": ".py",
   "mimetype": "text/x-python",
   "name": "python",
   "nbconvert_exporter": "python",
   "pygments_lexer": "ipython3",
   "version": "3.11.5"
  },
  "orig_nbformat": 4
 },
 "nbformat": 4,
 "nbformat_minor": 0
}
