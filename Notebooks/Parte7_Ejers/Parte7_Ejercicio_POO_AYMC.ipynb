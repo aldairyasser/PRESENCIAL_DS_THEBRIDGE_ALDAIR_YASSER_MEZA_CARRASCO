{
  "cells": [
    {
      "cell_type": "markdown",
      "metadata": {
        "id": "liorA-1ZSU4y"
      },
      "source": [
        "# Ejercicios Clases y Objetos"
      ]
    },
    {
      "cell_type": "markdown",
      "metadata": {
        "id": "5xXUz5l9SU4z"
      },
      "source": [
        "## Ejercicio 1\n",
        "Somos una empresa que tiene varias tiendas de electrodomesticos. Necesitamos un programa para manejar las tiendas, ver las ventas que han tenido, cuántos empleados hay, etc... Para ello vamos a modelizar la tienda en una clase, que tendrá las siguientes características:\n",
        "* Nombre clase: \"Tienda\"\n",
        "* Atributos comunes:\n",
        "    * Tipo: \"Electrodomésticos\"\n",
        "    * Abierta: True\n",
        "* Atributos propios de cada tienda:\n",
        "    * Nombre - String\n",
        "    * Dirección - String\n",
        "    * Número de empleados - int\n",
        "    * Ventas ultimos 3 meses - Lista de 3 numeros\n",
        "* Método para calcular las ventas de todos los meses, que devuelva un numero con todas las ventas.\n",
        "* Método que calcula la media de ventas de los ultimos meses, por empleado\n",
        "* Método que devuelve en un string el nombre de la tienda, junto con su dirección.\n",
        "* Método que obtiene las ventas del último mes.\n",
        "* Método para dar una proyección de las ventas en caso de haber invertido X dinero en marketing en esa tienda. Siendo X el parámetro de entrada. Si X es menor de 1000, las ventas de los ultimos 3 meses hubiesen sido de (1.2 x ventas), si es mayor o igual de 1000, las ventas hubiesen sido de (1.5 x venta). El método reescribe el atributo de ventas en los últimos 3 meses, y además devuelve las ventas con el aumento.\n",
        "\n",
        "Se pide:\n",
        "1. Implementar la clase \"Tienda\"\n",
        "2. Crear tres tiendas con datos inventados\n",
        "3. Comprueba en al menos una de ellas, todo lo implementado en la clase tienda (sus atributos, media de ventas, ventas/empleado...)\n",
        "3. Calcular las ventas del último mes de todas las tiendas. Para ello usa el bucle `for`\n",
        "4. Imprime por pantalla los nombres de las tiendas cuya dirección lleve el string \"Avenida\"\n",
        "5. Seguro que ya has hecho este apartado... Documenta la clase :)"
      ]
    },
    {
      "cell_type": "code",
      "execution_count": null,
      "metadata": {
        "id": "5cLQcLxfSU4z"
      },
      "outputs": [],
      "source": [
        "#Clase documentada:\n",
        "class tienda: #Clase con los atributos\n",
        "  tipo = \"electrodomesticos\"\n",
        "  abierta = True\n",
        "\n",
        "  def __init__(self, nombre, direccion, empleados, ventas): #Constructor\n",
        "    self.nombre = nombre #Nombre de la tienda\n",
        "    self.direccion = direccion #Dirección de la tienda\n",
        "    self.empleados = empleados #Nº de empleados de la tienda\n",
        "    self.ventas = ventas #Lista de la venta de los últimos 3 meses\n",
        "\n",
        "  def ventas_totales(self): #El sumatorio de las ventas en los 3 meses\n",
        "    return sum(self.ventas)\n",
        "\n",
        "  def ventas_por_empleado(self): #Ventas totales por empleado\n",
        "    return self.ventas_totales() / self.empleados\n",
        "\n",
        "  def nombre_direccion(self): #Mostrar el nombre y la direccion de la tienda\n",
        "    return self.nombre + \", \" + self.direccion\n",
        "\n",
        "  def ventas_ultimo_mes(self): #Las ventas del último mes\n",
        "    return self.ventas[-1]\n",
        "\n",
        "  def proyeccion_ventas(self, inversion): #Proyección en base a inversión\n",
        "    if inversion < 1000:\n",
        "      self.ventas = [x * 1.2 for x in self.ventas]\n",
        "    else:\n",
        "      self.ventas = [x * 1.5 for x in self.ventas]\n",
        "    return self.ventas_totales()"
      ]
    },
    {
      "cell_type": "code",
      "source": [
        "#2. Crear tres tiendas con datos inventados\n",
        "mercadona = tienda(\"Mercadona\", \"Calle Falsa 123\", 10, [100, 200, 300])\n",
        "lidl = tienda(\"Lidl\", \"Avenida Siempreviva 742\", 5, [500, 600, 700])\n",
        "dia = tienda(\"Dia\", \"Calle Falsa 123\", 20, [200, 300, 400])"
      ],
      "metadata": {
        "id": "PsfgfJyPbdAP"
      },
      "execution_count": null,
      "outputs": []
    },
    {
      "cell_type": "code",
      "source": [
        "#2. Crear tres tiendas con datos inventados\n",
        "print(mercadona.tipo)\n",
        "print(mercadona.abierta)\n",
        "print(mercadona.nombre)\n",
        "print(mercadona.direccion)\n",
        "print(mercadona.empleados)\n",
        "print(mercadona.ventas)\n",
        "print(mercadona.ventas_totales())\n",
        "print(mercadona.ventas_por_empleado())\n",
        "print(mercadona.nombre_direccion())\n",
        "print(mercadona.ventas_ultimo_mes())\n",
        "print(mercadona.proyeccion_ventas(500))"
      ],
      "metadata": {
        "id": "VEZ-cRxdbczq"
      },
      "execution_count": null,
      "outputs": []
    },
    {
      "cell_type": "code",
      "source": [
        "#3. Calcular las ventas del último mes de todas las tiendas. Para ello usa el bucle `for`\n",
        "ventas_totales = 0\n",
        "for tienda in [mercadona, lidl, dia]:\n",
        "    ventas_totales += tienda.ventas_ultimo_mes()\n",
        "print(ventas_totales)"
      ],
      "metadata": {
        "id": "8zKiX5mncOTN"
      },
      "execution_count": null,
      "outputs": []
    },
    {
      "cell_type": "code",
      "source": [
        "#4. Imprime por pantalla los nombres de las tiendas cuya dirección lleve el string \"Avenida\"\n",
        "for tienda in [mercadona, lidl, dia]:\n",
        "    if \"Avenida\" in tienda.direccion:\n",
        "        print(tienda.nombre)"
      ],
      "metadata": {
        "colab": {
          "base_uri": "https://localhost:8080/"
        },
        "id": "6VJb8a9Gchjz",
        "outputId": "4f2a5d21-fea9-416e-e52d-366f5fe4dd19"
      },
      "execution_count": null,
      "outputs": [
        {
          "output_type": "stream",
          "name": "stdout",
          "text": [
            "Lidl\n"
          ]
        }
      ]
    },
    {
      "cell_type": "markdown",
      "metadata": {
        "id": "WEBq7EpsSU40"
      },
      "source": [
        "## Ejercicio 2\n",
        "En este ejercicio vamos a implementar una clase *Perro* en Python. La clase tiene las siguientes características:\n",
        "* Cosas que sabemos seguro que tiene un perro\n",
        "    * Tiene 4 patas\n",
        "    * 2 orejas\n",
        "    * 2 ojos\n",
        "    * Una velocidad de 0. Por defecto, el perro está parado\n",
        "* Cuando se inicialice:\n",
        "    * El perro será de una determinada raza\n",
        "    * Por defecto tendrá pelo \"Marrón\", a no ser que se diga lo contrario.\n",
        "    * Por defecto no tendrá dueño, a no ser que se diga lo contrario.\n",
        "    \n",
        "* Dispondrá también de un método llamado andar, que tiene un argumento de entrada (aumento_velocidad). Este valor se le sumará a la velocidad que ya llevaba el perro.\n",
        "* Necesita otro método (parar), donde pondremos la velocidad a 0.\n",
        "* Otro método llamado \"ladrar\", que tendrá un argumento de entrada, y la salida será el siguiente string: \"GUAU!\" + el argumento de entrada.\n",
        "\n",
        "\n",
        "Se pide:\n",
        "* Implementa la clase *Perro*\n",
        "* Crea un objeto de tipo *Perro*, sin dueño\n",
        "* Comprueba que están bien todos sus atributos\n",
        "* Prueba que ande, y comprueba su velocidad\n",
        "* Páralo\n",
        "* Documenta la clase *Perro*"
      ]
    },
    {
      "cell_type": "code",
      "execution_count": null,
      "metadata": {
        "id": "DpEWvbwGSU40"
      },
      "outputs": [],
      "source": [
        "#Clase documentada\n",
        "class perro: #Clase perro\n",
        "  patas = 4 #Nª de patas\n",
        "  orejas = 2 #Nª de orejas\n",
        "  ojos = 2 #Nª de ojos\n",
        "  velocidad = 0 #Velocidad del perro\n",
        "\n",
        "  def __init__(self, raza, pelo=\"marron\", dueño=None): #Constructor\n",
        "    self.raza = raza #Raza del perro\n",
        "    self.pelo = pelo #Color del pelo del perro\n",
        "    self.dueño = dueño #Nombre del dueño\n",
        "\n",
        "  def andar(self, aumento_velocidad): #Aumentamos la velocidad del perro\n",
        "    self.velocidad += aumento_velocidad\n",
        "\n",
        "  def parar(self): #Detenemos la velocidad del perro\n",
        "    self.velocidad = 0\n",
        "\n",
        "  def ladrar(self, mensaje): #Mostramos mensajes\n",
        "    return \"GUAU! \" + mensaje"
      ]
    },
    {
      "cell_type": "code",
      "source": [
        "#Crea un perro sin dueño\n",
        "buldog = perro(\"buldog\")"
      ],
      "metadata": {
        "id": "JzNAbq-rnLC8"
      },
      "execution_count": null,
      "outputs": []
    },
    {
      "cell_type": "code",
      "source": [
        "#Com prueba que estén todos los atributos bien\n",
        "print(buldog.patas)\n",
        "print(buldog.orejas)\n",
        "print(buldog.ojos)\n",
        "print(buldog.velocidad)\n",
        "print(buldog.raza)\n",
        "print(buldog.pelo)\n",
        "print(buldog.dueño)"
      ],
      "metadata": {
        "id": "TPssHX7ZoKE-"
      },
      "execution_count": null,
      "outputs": []
    },
    {
      "cell_type": "code",
      "source": [
        "#Comprueba que ande y ver velocidad\n",
        "buldog.andar(10)\n",
        "print(buldog.velocidad)"
      ],
      "metadata": {
        "id": "Ik-NrjL0oKoa"
      },
      "execution_count": null,
      "outputs": []
    },
    {
      "cell_type": "code",
      "source": [
        "#Parar al perro\n",
        "buldog.parar()\n",
        "print(buldog.velocidad)"
      ],
      "metadata": {
        "id": "oz_VWRDDpRtq"
      },
      "execution_count": null,
      "outputs": []
    }
  ],
  "metadata": {
    "kernelspec": {
      "display_name": "Python 3",
      "language": "python",
      "name": "python3"
    },
    "language_info": {
      "codemirror_mode": {
        "name": "ipython",
        "version": 3
      },
      "file_extension": ".py",
      "mimetype": "text/x-python",
      "name": "python",
      "nbconvert_exporter": "python",
      "pygments_lexer": "ipython3",
      "version": "3.7.9"
    },
    "colab": {
      "provenance": []
    }
  },
  "nbformat": 4,
  "nbformat_minor": 0
}